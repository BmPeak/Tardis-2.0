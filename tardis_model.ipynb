{
 "cells": [
  {
   "cell_type": "markdown",
   "metadata": {},
   "source": [
    "# Tardis Model Prediction"
   ]
  },
  {
   "cell_type": "markdown",
   "metadata": {},
   "source": [
    "## Defining the import"
   ]
  },
  {
   "cell_type": "code",
   "execution_count": null,
   "metadata": {},
   "outputs": [],
   "source": [
    "import pandas as pd\n",
    "import numpy as np\n",
    "import joblib\n",
    "from sklearn.preprocessing import LabelEncoder\n",
    "from sklearn.ensemble import RandomForestRegressor\n",
    "from sklearn.metrics import r2_score, mean_squared_error\n",
    "from sklearn.preprocessing import OneHotEncoder\n",
    "from sklearn.compose import ColumnTransformer\n",
    "from sklearn.pipeline import Pipeline\n",
    "from sklearn.model_selection import train_test_split, RandomizedSearchCV"
   ]
  },
  {
   "cell_type": "markdown",
   "metadata": {},
   "source": [
    "## Load the cleaned data"
   ]
  },
  {
   "cell_type": "code",
   "execution_count": null,
   "metadata": {
    "tags": []
   },
   "outputs": [
    {
     "data": {
      "text/html": [
       "<div>\n",
       "<style scoped>\n",
       "    .dataframe tbody tr th:only-of-type {\n",
       "        vertical-align: middle;\n",
       "    }\n",
       "\n",
       "    .dataframe tbody tr th {\n",
       "        vertical-align: top;\n",
       "    }\n",
       "\n",
       "    .dataframe thead th {\n",
       "        text-align: right;\n",
       "    }\n",
       "</style>\n",
       "<table border=\"1\" class=\"dataframe\">\n",
       "  <thead>\n",
       "    <tr style=\"text-align: right;\">\n",
       "      <th></th>\n",
       "      <th>Unnamed: 0</th>\n",
       "      <th>Date</th>\n",
       "      <th>Service</th>\n",
       "      <th>Departure station</th>\n",
       "      <th>Arrival station</th>\n",
       "      <th>Average journey time</th>\n",
       "      <th>Number of scheduled trains</th>\n",
       "      <th>Number of cancelled trains</th>\n",
       "      <th>Number of trains delayed at departure</th>\n",
       "      <th>Average delay of late trains at departure</th>\n",
       "      <th>...</th>\n",
       "      <th>Number of trains delayed &gt; 30min</th>\n",
       "      <th>Number of trains delayed &gt; 60min</th>\n",
       "      <th>Pct delay due to external causes</th>\n",
       "      <th>Pct delay due to infrastructure</th>\n",
       "      <th>Pct delay due to traffic management</th>\n",
       "      <th>Pct delay due to rolling stock</th>\n",
       "      <th>Pct delay due to station management and equipment reuse</th>\n",
       "      <th>Pct delay due to passenger handling (crowding, disabled persons, connections)</th>\n",
       "      <th>Average delay late departure in Hour</th>\n",
       "      <th>Average delay departure in Hour</th>\n",
       "    </tr>\n",
       "  </thead>\n",
       "  <tbody>\n",
       "    <tr>\n",
       "      <th>0</th>\n",
       "      <td>0</td>\n",
       "      <td>2018-01</td>\n",
       "      <td>National</td>\n",
       "      <td>Bordeaux-St-Jean</td>\n",
       "      <td>Paris-Montparnasse</td>\n",
       "      <td>141.0</td>\n",
       "      <td>NaN</td>\n",
       "      <td>5.0</td>\n",
       "      <td>289.0</td>\n",
       "      <td>11.247809</td>\n",
       "      <td>...</td>\n",
       "      <td>44.0</td>\n",
       "      <td>8.0</td>\n",
       "      <td>36.134454</td>\n",
       "      <td>31.092437</td>\n",
       "      <td>10.924370</td>\n",
       "      <td>15.966387</td>\n",
       "      <td>5.042017</td>\n",
       "      <td>75.91573</td>\n",
       "      <td>00:11</td>\n",
       "      <td>00:03</td>\n",
       "    </tr>\n",
       "    <tr>\n",
       "      <th>1</th>\n",
       "      <td>1</td>\n",
       "      <td>2018-01</td>\n",
       "      <td>National</td>\n",
       "      <td>La Rochelle-Ville</td>\n",
       "      <td>Paris-Montparnasse</td>\n",
       "      <td>165.0</td>\n",
       "      <td>222.0</td>\n",
       "      <td>NaN</td>\n",
       "      <td>8.0</td>\n",
       "      <td>2.875000</td>\n",
       "      <td>...</td>\n",
       "      <td>5.0</td>\n",
       "      <td>NaN</td>\n",
       "      <td>15.384615</td>\n",
       "      <td>30.769231</td>\n",
       "      <td>38.461538</td>\n",
       "      <td>11.538462</td>\n",
       "      <td>3.846154</td>\n",
       "      <td>0.00000</td>\n",
       "      <td>00:02</td>\n",
       "      <td>00:00</td>\n",
       "    </tr>\n",
       "    <tr>\n",
       "      <th>2</th>\n",
       "      <td>2</td>\n",
       "      <td>2018-01</td>\n",
       "      <td>National</td>\n",
       "      <td>Paris-Montparnasse</td>\n",
       "      <td>Quimper</td>\n",
       "      <td>220.0</td>\n",
       "      <td>248.0</td>\n",
       "      <td>1.0</td>\n",
       "      <td>37.0</td>\n",
       "      <td>9.501351</td>\n",
       "      <td>...</td>\n",
       "      <td>17.0</td>\n",
       "      <td>7.0</td>\n",
       "      <td>26.923077</td>\n",
       "      <td>38.461538</td>\n",
       "      <td>NaN</td>\n",
       "      <td>19.230769</td>\n",
       "      <td>0.000000</td>\n",
       "      <td>0.00000</td>\n",
       "      <td>00:09</td>\n",
       "      <td>NaN</td>\n",
       "    </tr>\n",
       "    <tr>\n",
       "      <th>3</th>\n",
       "      <td>3</td>\n",
       "      <td>2018-01</td>\n",
       "      <td>National</td>\n",
       "      <td>Paris-Montparnasse</td>\n",
       "      <td>St-Malo</td>\n",
       "      <td>156.0</td>\n",
       "      <td>102.0</td>\n",
       "      <td>0.0</td>\n",
       "      <td>12.0</td>\n",
       "      <td>19.912500</td>\n",
       "      <td>...</td>\n",
       "      <td>6.0</td>\n",
       "      <td>4.0</td>\n",
       "      <td>23.076923</td>\n",
       "      <td>218.650888</td>\n",
       "      <td>7.692308</td>\n",
       "      <td>15.384615</td>\n",
       "      <td>7.692308</td>\n",
       "      <td>NaN</td>\n",
       "      <td>00:19</td>\n",
       "      <td>00:01</td>\n",
       "    </tr>\n",
       "    <tr>\n",
       "      <th>4</th>\n",
       "      <td>4</td>\n",
       "      <td>2018-01</td>\n",
       "      <td>National</td>\n",
       "      <td>Paris-Montparnasse</td>\n",
       "      <td>St-Pierre-des-Corps</td>\n",
       "      <td>61.0</td>\n",
       "      <td>391.0</td>\n",
       "      <td>2.0</td>\n",
       "      <td>61.0</td>\n",
       "      <td>NaN</td>\n",
       "      <td>...</td>\n",
       "      <td>6.0</td>\n",
       "      <td>0.0</td>\n",
       "      <td>21.212121</td>\n",
       "      <td>42.424242</td>\n",
       "      <td>9.090909</td>\n",
       "      <td>21.212121</td>\n",
       "      <td>6.060606</td>\n",
       "      <td>0.00000</td>\n",
       "      <td>NaN</td>\n",
       "      <td>00:00</td>\n",
       "    </tr>\n",
       "  </tbody>\n",
       "</table>\n",
       "<p>5 rows × 26 columns</p>\n",
       "</div>"
      ],
      "text/plain": [
       "   Unnamed: 0     Date   Service   Departure station      Arrival station  \\\n",
       "0           0  2018-01  National    Bordeaux-St-Jean   Paris-Montparnasse   \n",
       "1           1  2018-01  National   La Rochelle-Ville   Paris-Montparnasse   \n",
       "2           2  2018-01  National  Paris-Montparnasse              Quimper   \n",
       "3           3  2018-01  National  Paris-Montparnasse              St-Malo   \n",
       "4           4  2018-01  National  Paris-Montparnasse  St-Pierre-des-Corps   \n",
       "\n",
       "   Average journey time  Number of scheduled trains  \\\n",
       "0                 141.0                         NaN   \n",
       "1                 165.0                       222.0   \n",
       "2                 220.0                       248.0   \n",
       "3                 156.0                       102.0   \n",
       "4                  61.0                       391.0   \n",
       "\n",
       "   Number of cancelled trains  Number of trains delayed at departure  \\\n",
       "0                         5.0                                  289.0   \n",
       "1                         NaN                                    8.0   \n",
       "2                         1.0                                   37.0   \n",
       "3                         0.0                                   12.0   \n",
       "4                         2.0                                   61.0   \n",
       "\n",
       "   Average delay of late trains at departure  ...  \\\n",
       "0                                  11.247809  ...   \n",
       "1                                   2.875000  ...   \n",
       "2                                   9.501351  ...   \n",
       "3                                  19.912500  ...   \n",
       "4                                        NaN  ...   \n",
       "\n",
       "   Number of trains delayed > 30min  Number of trains delayed > 60min  \\\n",
       "0                              44.0                               8.0   \n",
       "1                               5.0                               NaN   \n",
       "2                              17.0                               7.0   \n",
       "3                               6.0                               4.0   \n",
       "4                               6.0                               0.0   \n",
       "\n",
       "   Pct delay due to external causes  Pct delay due to infrastructure  \\\n",
       "0                         36.134454                        31.092437   \n",
       "1                         15.384615                        30.769231   \n",
       "2                         26.923077                        38.461538   \n",
       "3                         23.076923                       218.650888   \n",
       "4                         21.212121                        42.424242   \n",
       "\n",
       "   Pct delay due to traffic management  Pct delay due to rolling stock  \\\n",
       "0                            10.924370                       15.966387   \n",
       "1                            38.461538                       11.538462   \n",
       "2                                  NaN                       19.230769   \n",
       "3                             7.692308                       15.384615   \n",
       "4                             9.090909                       21.212121   \n",
       "\n",
       "   Pct delay due to station management and equipment reuse  \\\n",
       "0                                           5.042017         \n",
       "1                                           3.846154         \n",
       "2                                           0.000000         \n",
       "3                                           7.692308         \n",
       "4                                           6.060606         \n",
       "\n",
       "   Pct delay due to passenger handling (crowding, disabled persons, connections)  \\\n",
       "0                                           75.91573                               \n",
       "1                                            0.00000                               \n",
       "2                                            0.00000                               \n",
       "3                                                NaN                               \n",
       "4                                            0.00000                               \n",
       "\n",
       "   Average delay late departure in Hour  Average delay departure in Hour  \n",
       "0                                 00:11                            00:03  \n",
       "1                                 00:02                            00:00  \n",
       "2                                 00:09                              NaN  \n",
       "3                                 00:19                            00:01  \n",
       "4                                   NaN                            00:00  \n",
       "\n",
       "[5 rows x 26 columns]"
      ]
     },
     "execution_count": 58,
     "metadata": {},
     "output_type": "execute_result"
    }
   ],
   "source": [
    "df = pd.read_csv(\"cleaned_dataset.csv\")\n",
    "df.head()"
   ]
  },
  {
   "cell_type": "markdown",
   "metadata": {},
   "source": [
    "## Selecting relevant features for the model"
   ]
  },
  {
   "cell_type": "markdown",
   "metadata": {},
   "source": [
    "#### The model used is Random forest will use the departure and arrival station with schedulded time of arrival and the day if the week as features."
   ]
  },
  {
   "cell_type": "markdown",
   "metadata": {},
   "source": [
    "#### Passing name into integers for easier learning"
   ]
  },
  {
   "cell_type": "code",
   "execution_count": null,
   "metadata": {},
   "outputs": [],
   "source": [
    "labels_cols = [\"Departure station\", \"Arrival station\"]\n",
    "for col in labels_cols:\n",
    "    le = LabelEncoder()\n",
    "    df[col] = le.fit_transform(df[col])"
   ]
  },
  {
   "cell_type": "markdown",
   "metadata": {},
   "source": [
    "##### Defining features and the target"
   ]
  },
  {
   "cell_type": "code",
   "execution_count": null,
   "metadata": {},
   "outputs": [],
   "source": [
    "df = df.dropna(subset=[\"Average delay of all trains at departure\"])\n",
    "\n",
    "df[\"Date\"] = pd.to_datetime(df[\"Date\"], format=\"%Y-%m\", errors=\"coerce\")\n",
    "df = df.dropna(subset=[\"Date\"])\n",
    "\n",
    "df[\"day_of_week\"] = df[\"Date\"].dt.day_name()\n",
    "\n",
    "X = df[[\n",
    "    \"Departure station\",\n",
    "    \"Arrival station\",\n",
    "    \"Average journey time\",\n",
    "    \"Number of scheduled trains\",\n",
    "    \"day_of_week\",\n",
    "    \"Average delay departure in Hour\",\n",
    "    \"Average delay late departure in Hour\",\n",
    "]]\n",
    "\n",
    "y = df[\"Average delay of all trains at departure\"]"
   ]
  },
  {
   "cell_type": "markdown",
   "metadata": {},
   "source": [
    "### Spliting dataset"
   ]
  },
  {
   "cell_type": "code",
   "execution_count": null,
   "metadata": {},
   "outputs": [],
   "source": [
    "X_train, X_test, y_train, y_test = train_test_split(X, y, test_size=0.2, random_state=42)"
   ]
  },
  {
   "cell_type": "markdown",
   "metadata": {},
   "source": [
    "## Training the model"
   ]
  },
  {
   "cell_type": "markdown",
   "metadata": {},
   "source": [
    "### Random Forest training"
   ]
  },
  {
   "cell_type": "code",
   "execution_count": null,
   "metadata": {},
   "outputs": [
    {
     "name": "stdout",
     "output_type": "stream",
     "text": [
      "Random Forest R²: 0.940873616251037\n",
      "RMSE: 1.7633987691573132\n"
     ]
    }
   ],
   "source": [
    "categorical_features = [\"Departure station\", \"Arrival station\", \"day_of_week\"]\n",
    "numerical_features = [\n",
    "    \"Average journey time\",\n",
    "    \"Number of scheduled trains\",\n",
    "    \"Average delay departure in Hour\",\n",
    "    \"Average delay late departure in Hour\"\n",
    "]\n",
    "\n",
    "X = df[categorical_features + numerical_features].copy()\n",
    "y = df[\"Average delay of all trains at departure\"].copy()\n",
    "\n",
    "def time_to_minutes(t):\n",
    "    if isinstance(t, str) and \":\" in t:\n",
    "        h, m = map(int, t.split(\":\"))\n",
    "        return h * 60 + m\n",
    "    return np.nan\n",
    "\n",
    "X.loc[:, \"Average delay departure in Hour\"] = X[\"Average delay departure in Hour\"].apply(time_to_minutes)\n",
    "X.loc[:, \"Average delay late departure in Hour\"] = X[\"Average delay late departure in Hour\"].apply(time_to_minutes)\n",
    "\n",
    "valid_idx = X.dropna().index.intersection(y.dropna().index)\n",
    "X = X.loc[valid_idx]\n",
    "y = y.loc[valid_idx]\n",
    "\n",
    "preprocessor = ColumnTransformer(\n",
    "    transformers=[\n",
    "        (\"cat\", OneHotEncoder(handle_unknown=\"ignore\"), categorical_features)\n",
    "    ],\n",
    "    remainder=\"passthrough\"\n",
    ")\n",
    "\n",
    "# Use your best hyperparameters found\n",
    "best_params = {\n",
    "    \"n_estimators\": 200,\n",
    "    \"max_depth\": None,\n",
    "    \"min_samples_split\": 5,\n",
    "    \"min_samples_leaf\": 1,\n",
    "    \"max_features\": \"sqrt\",\n",
    "    \"bootstrap\": True,\n",
    "    \"random_state\": 42\n",
    "}\n",
    "\n",
    "model = Pipeline(steps=[\n",
    "    (\"preprocessor\", preprocessor),\n",
    "    (\"regressor\", RandomForestRegressor(**best_params))\n",
    "])\n",
    "\n",
    "X_train, X_test, y_train, y_test = train_test_split(X, y, test_size=0.2, random_state=42)\n",
    "\n",
    "model.fit(X_train, y_train)\n",
    "y_pred = model.predict(X_test)\n",
    "\n",
    "print(\"Random Forest R²:\", r2_score(y_test, y_pred))\n",
    "print(\"RMSE:\", np.sqrt(mean_squared_error(y_test, y_pred)))"
   ]
  },
  {
   "cell_type": "markdown",
   "metadata": {},
   "source": [
    "#### Evaluation of the model"
   ]
  },
  {
   "cell_type": "code",
   "execution_count": null,
   "metadata": {},
   "outputs": [
    {
     "name": "stdout",
     "output_type": "stream",
     "text": [
      "Random Forest R²: 0.9409\n",
      "RMSE: 1.7634\n",
      "\n",
      "Correlation with Average Delay of All Trains at Departure:\n",
      "Average delay of all trains at departure                                         1.000000\n",
      "Average delay of late trains at departure                                        0.116762\n",
      "Average delay of all trains at arrival                                           0.084140\n",
      "Number of trains delayed at departure                                            0.059871\n",
      "Number of trains delayed > 60min                                                 0.042031\n",
      "Number of trains delayed > 30min                                                 0.042029\n",
      "Arrival station                                                                  0.039493\n",
      "Number of trains delayed > 15min                                                 0.039463\n",
      "Number of trains delayed at arrival                                              0.026829\n",
      "Average journey time                                                             0.018529\n",
      "Average delay of late trains at arrival                                          0.017009\n",
      "Pct delay due to traffic management                                              0.015313\n",
      "Pct delay due to station management and equipment reuse                          0.015046\n",
      "Number of cancelled trains                                                       0.013875\n",
      "Pct delay due to infrastructure                                                  0.008544\n",
      "Number of scheduled trains                                                       0.005228\n",
      "Pct delay due to external causes                                                 0.001453\n",
      "Pct delay due to passenger handling (crowding, disabled persons, connections)    0.000388\n",
      "Pct delay due to rolling stock                                                  -0.014224\n",
      "Unnamed: 0                                                                      -0.017450\n",
      "Average delay of trains > 15min (if competing with flights)                     -0.023572\n",
      "Departure station                                                               -0.064600\n",
      "Name: Average delay of all trains at departure, dtype: float64\n"
     ]
    }
   ],
   "source": [
    "# Assuming y_test and y_pred_rf are already defined\n",
    "\n",
    "r2 = r2_score(y_test, y_pred)\n",
    "mse = mean_squared_error(y_test, y_pred)\n",
    "rmse = np.sqrt(mse)\n",
    "\n",
    "print(f\"Random Forest R²: {r2:.4f}\")\n",
    "print(f\"RMSE: {rmse:.4f}\")\n",
    "\n",
    "# Correlation with target variable, sorted descending\n",
    "corr_target = df.corr(numeric_only=True)[\"Average delay of all trains at departure\"].sort_values(ascending=False)\n",
    "print(\"\\nCorrelation with Average Delay of All Trains at Departure:\")\n",
    "print(corr_target)"
   ]
  },
  {
   "cell_type": "markdown",
   "metadata": {},
   "source": [
    "## Saving the model"
   ]
  },
  {
   "cell_type": "code",
   "execution_count": null,
   "metadata": {},
   "outputs": [
    {
     "data": {
      "text/plain": [
       "['model.pkl']"
      ]
     },
     "execution_count": 64,
     "metadata": {},
     "output_type": "execute_result"
    }
   ],
   "source": [
    "joblib.dump(model, \"model.pkl\")"
   ]
  }
 ],
 "metadata": {
  "kernelspec": {
   "display_name": "venv",
   "language": "python",
   "name": "python3"
  },
  "language_info": {
   "codemirror_mode": {
    "name": "ipython",
    "version": 3
   },
   "file_extension": ".py",
   "mimetype": "text/x-python",
   "name": "python",
   "nbconvert_exporter": "python",
   "pygments_lexer": "ipython3",
   "version": "3.12.11"
  }
 },
 "nbformat": 4,
 "nbformat_minor": 2
}
